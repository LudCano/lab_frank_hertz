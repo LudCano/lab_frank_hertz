{
 "cells": [
  {
   "cell_type": "code",
   "execution_count": 1,
   "id": "824cedc7",
   "metadata": {},
   "outputs": [
    {
     "name": "stdout",
     "output_type": "stream",
     "text": [
      "Hello worlds!\n"
     ]
    }
   ],
   "source": [
    "print(\"Hello worlds!\")"
   ]
  },
  {
   "cell_type": "code",
   "execution_count": null,
   "id": "695a2881",
   "metadata": {},
   "outputs": [],
   "source": [
    "x = 256 + 10\n",
    "print(x)"
   ]
  }
 ],
 "metadata": {
  "kernelspec": {
   "display_name": "Python 3 (ipykernel)",
   "language": "python",
   "name": "python3"
  },
  "language_info": {
   "codemirror_mode": {
    "name": "ipython",
    "version": 3
   },
   "file_extension": ".py",
   "mimetype": "text/x-python",
   "name": "python",
   "nbconvert_exporter": "python",
   "pygments_lexer": "ipython3",
   "version": "3.9.13"
  }
 },
 "nbformat": 4,
 "nbformat_minor": 5
}
